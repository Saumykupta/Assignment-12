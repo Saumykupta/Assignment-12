{
  "nbformat": 4,
  "nbformat_minor": 0,
  "metadata": {
    "colab": {
      "provenance": []
    },
    "kernelspec": {
      "name": "python3",
      "display_name": "Python 3"
    },
    "language_info": {
      "name": "python"
    }
  },
  "cells": [
    {
      "cell_type": "markdown",
      "source": [
        "**Question1.** In what modes should the PdfFileReader() and PdfFileWriter() File objects will be opened?\n",
        "\n",
        "**Ans:**  PdfFileReader() needs to be opened in read-binary mode by passing 'rb' as the second argument to open(). Likewise, the File object passed to PyPDF2.PdfFileWriter() needs to be opened in write-binary mode with 'wb'."
      ],
      "metadata": {
        "id": "uiq_X-SzVyPC"
      }
    },
    {
      "cell_type": "markdown",
      "source": [
        "**Question2.** From a PdfFileReader object, how do you get a Page object for page 5?\n",
        "\n",
        "**Ans:** You can get a Page object by calling the getPage() method ➋ on a PdfFileReader object and passing it the page number of the page you’re interested in—in our case, 0."
      ],
      "metadata": {
        "id": "6Cew6t8_WPb0"
      }
    },
    {
      "cell_type": "markdown",
      "source": [
        "**Question3.** What PdfFileReader variable stores the number of pages in the PDF document?\n",
        "\n",
        "**Ans:** The total number of pages in the document is stored in the numPages attribute of a PdfFileReader object ➊."
      ],
      "metadata": {
        "id": "e-ZXc8n5Wdq1"
      }
    },
    {
      "cell_type": "markdown",
      "source": [
        "**Question4.** If a PdfFileReader object’s PDF is encrypted with the password swordfish, what must you do\n",
        "before you can obtain Page objects from it?\n",
        "\n",
        "**Ans:** Call decrypt('swordfish')"
      ],
      "metadata": {
        "id": "mLC_aqMpWpSQ"
      }
    },
    {
      "cell_type": "markdown",
      "source": [
        "**Question5.** What methods do you use to rotate a page?\n",
        "\n",
        "**Ans:** Right-click the selected page or individual pages, and choose the \"Rotate Page\" option."
      ],
      "metadata": {
        "id": "kkFq9DM0XG7y"
      }
    },
    {
      "cell_type": "markdown",
      "source": [
        "**Question6.** What is the difference between a Run object and a Paragraph object?\n",
        "\n",
        "**Ans:** new Paragraph objects can be added only to the end of the document, and new Run objects can be added only to the end of a Paragraph object."
      ],
      "metadata": {
        "id": "36TURzHwXYQz"
      }
    },
    {
      "cell_type": "markdown",
      "source": [
        "7. How do you obtain a list of Paragraph objects for a Document object that’s stored in a variable\n",
        "named doc?\n",
        "\n",
        "\n",
        "\n"
      ],
      "metadata": {
        "id": "ocPQB8zcYB20"
      }
    },
    {
      "cell_type": "markdown",
      "source": [
        "**Question8.** What type of object has bold, underline, italic, strike, and outline variables?\n",
        "\n",
        "**Ans:**\n",
        "\n",
        "*   The Bold property determines whether text is normal or bold.\n",
        "\n",
        "*   The Italic property determines whether text is normal or italic.\n",
        "*   The Size property determines the height, in points, of displayed  text.\n",
        "\n",
        "\n",
        "*   The Underline property determines whether text is underlined.\n",
        "\n",
        "*   The StrikeThrough property determines whether the text appears with strikethrough marks.\n",
        "*  The Weight property determines the darkness of the type.\n",
        "\n",
        "\n",
        "\n"
      ],
      "metadata": {
        "id": "9j-lFuM4Yeg3"
      }
    },
    {
      "cell_type": "markdown",
      "source": [
        "**Question9.** What is the difference between False, True, and None for the bold variable?\n",
        "\n",
        "**Ans:** \n",
        "True and False are specific bool values. Use default False when you have a bool field and you want the default to be False. Don't use False as a value for a non- bool field. None is used as a generic placeholder when the value will be set later."
      ],
      "metadata": {
        "id": "fOfloOq1ZfwE"
      }
    },
    {
      "cell_type": "markdown",
      "source": [
        "**Question10.** How do you create a Document object for a new Word document?\n",
        "\n",
        "**Ans:**  To create a new file that is inserted into your Word document or email message: In the Object dialog box, click the Create New tab, and then select an option from the Object type list. The default program for that file type opens, where you can enter any text or data you want."
      ],
      "metadata": {
        "id": "JUjl3x_vZ0In"
      }
    },
    {
      "cell_type": "markdown",
      "source": [
        "11. How do you add a paragraph with the text &#39;Hello, there!&#39; to a Document object stored in a\n",
        "variable named doc?\n",
        "\n",
        "**Ans:** "
      ],
      "metadata": {
        "id": "edu9PryWaAmv"
      }
    },
    {
      "cell_type": "markdown",
      "source": [
        "12. What integers represent the levels of headings available in Word documents?\n",
        "\n",
        "**Ans:** \n",
        "\n",
        "Adding Headings\n",
        "\n",
        "---\n",
        "\n",
        "\n",
        "\n",
        "The integer 0 makes the heading the Title style, which is used for the top of the document. Integers 1 to 4 are for various heading levels, with 1 being the main heading and 4 the lowest subheading."
      ],
      "metadata": {
        "id": "MzdUObsBaUHM"
      }
    }
  ]
}